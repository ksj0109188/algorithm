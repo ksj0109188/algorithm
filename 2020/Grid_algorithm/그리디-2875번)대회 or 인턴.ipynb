{
 "cells": [
  {
   "cell_type": "code",
   "execution_count": 63,
   "metadata": {},
   "outputs": [
    {
     "name": "stdout",
     "output_type": "stream",
     "text": [
      "7 2 0\n"
     ]
    }
   ],
   "source": [
    "N, M, K = list(map(int, input().split(\" \")))"
   ]
  },
  {
   "cell_type": "code",
   "execution_count": 3,
   "metadata": {},
   "outputs": [
    {
     "data": {
      "text/plain": [
       "int"
      ]
     },
     "execution_count": 3,
     "metadata": {},
     "output_type": "execute_result"
    }
   ],
   "source": [
    "#N은 여학생의수 N:M = 2:1\n",
    "#M은 남학생의수 \n",
    "#K는 인터쉽에 참여해야 하는 인원"
   ]
  },
  {
   "cell_type": "code",
   "execution_count": 64,
   "metadata": {},
   "outputs": [
    {
     "name": "stdout",
     "output_type": "stream",
     "text": [
      "2\n"
     ]
    }
   ],
   "source": [
    "while K:\n",
    "    if N==0 or M==0: #1\n",
    "        print(0)\n",
    "        break\n",
    "    if N>=M*2: #2\n",
    "        N-=1\n",
    "        K-=1\n",
    "    else:\n",
    "        M-=1\n",
    "        K-=1\n",
    "if N>=M*2: #3\n",
    "    print(M)\n",
    "else: #4\n",
    "    print(N//2)"
   ]
  },
  {
   "cell_type": "code",
   "execution_count": 60,
   "metadata": {},
   "outputs": [],
   "source": [
    "#1 여자와 남자 0이면 팀을 만들수 없으므로 0를 출력"
   ]
  },
  {
   "cell_type": "code",
   "execution_count": 61,
   "metadata": {},
   "outputs": [],
   "source": [
    "#2 여자와 남자 비율이 2:1이므로, 여자가 2배 많거나 같으면 감소 우선순위를 먼저 주었음."
   ]
  },
  {
   "cell_type": "code",
   "execution_count": 62,
   "metadata": {},
   "outputs": [],
   "source": [
    "#3 비율이 2:1혹은 N이 그이상이면, 남자의 인원에 따라 팀이 만들어짐."
   ]
  },
  {
   "cell_type": "code",
   "execution_count": null,
   "metadata": {},
   "outputs": [],
   "source": [
    "#4-1 비율이 2:1이 아니거나 N이 M보다 작을경우, 여성의 인원에 2를 나눈몫이 팀의 개수가 되므로\n",
    "#예) N=5, M=3 일경우, 비율이 2:1이므로 N//2 -> 2가 출력."
   ]
  }
 ],
 "metadata": {
  "kernelspec": {
   "display_name": "Python 3",
   "language": "python",
   "name": "python3"
  },
  "language_info": {
   "codemirror_mode": {
    "name": "ipython",
    "version": 3
   },
   "file_extension": ".py",
   "mimetype": "text/x-python",
   "name": "python",
   "nbconvert_exporter": "python",
   "pygments_lexer": "ipython3",
   "version": "3.7.7"
  }
 },
 "nbformat": 4,
 "nbformat_minor": 4
}
