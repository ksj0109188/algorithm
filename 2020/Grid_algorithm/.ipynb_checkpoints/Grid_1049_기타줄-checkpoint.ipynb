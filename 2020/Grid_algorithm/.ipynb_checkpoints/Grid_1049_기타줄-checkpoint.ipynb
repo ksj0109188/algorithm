{
 "cells": [
  {
   "cell_type": "markdown",
   "metadata": {},
   "source": [
    "문제<br>\n",
    "Day Of Mourning의 기타리스트 강토가 사용하는 기타에서 N개의 줄이 끊어졌다. 따라서 새로운 줄을 사거나 교체해야 한다. 강토는 되도록이면 돈을 적게 쓰려고 한다. 6줄 패키지를 살 수도 있고, 1개 또는 그 이상의 줄을 낱개로 살 수도 있다.\n",
    "<br>\n",
    "끊어진 기타줄의 개수 N과 기타줄 브랜드 M개가 주어지고, 각각의 브랜드에서 파는 기타줄 6개가 들어있는 패키지의 가격, 낱개로 살 때의 가격이 주어질 때, 적어도 N개를 사기 위해 필요한 돈의 수를 최소로 하는 프로그램을 작성하시오.\n",
    "<br>\n",
    "입력<br>\n",
    "첫째 줄에 N과 M이 주어진다. N은 100보다 작거나 같은 자연수이고, M은 50보다 작거나 같은 자연수이다. 둘째 줄부터 M개의 줄에는 각 브랜드의 패키지 가격과 낱개의 가격이 공백으로 구분하여 주어진다. 가격은 0보다 크거나 같고, 1,000보다 작거나 같은 정수이다.\n",
    "<br>\n",
    "출력<br>\n",
    "첫째 줄에 기타줄을 적어도 N개 사기 위해 필요한 돈의 최솟값을 출력한다.<br>\n",
    "<br>\n",
    "예제 입력 1<br>\n",
    "4 2<br>\n",
    "12 3<br>\n",
    "15 4<br><br>\n",
    "예제 출력 1<br>\n",
    "12<br><br>\n",
    "예제 입력 2<br>\n",
    "10 3<br>\n",
    "20 8<br>\n",
    "40 7<br>\n",
    "60 4<br><br>\n",
    "예제 출력 2<br>\n",
    "36<br>"
   ]
  },
  {
   "cell_type": "code",
   "execution_count": 63,
   "metadata": {},
   "outputs": [
    {
     "name": "stdout",
     "output_type": "stream",
     "text": [
      "10 3\n"
     ]
    }
   ],
   "source": [
    "N,M = list(map(int,input().split(' ')))"
   ]
  },
  {
   "cell_type": "code",
   "execution_count": 64,
   "metadata": {},
   "outputs": [
    {
     "name": "stdout",
     "output_type": "stream",
     "text": [
      "20 8\n",
      "40 7\n",
      "60 4\n",
      "36\n"
     ]
    }
   ],
   "source": [
    "needs_line = N\n",
    "collection = []\n",
    "result = []\n",
    "Package = 1000\n",
    "One = 1000\n",
    "for i in range(M):\n",
    "    collection.append(list(map(int,(input().split(' ')))))\n",
    "    collection = sorted(collection, key = lambda x : x[1])\n",
    "min_pack = min(collection)[0] #최저인 패키지 값\n",
    "min_per = collection[0][1] #최저인 낱개 값\n",
    "while 0<=needs_line:\n",
    "    if min_pack<min_per*6:#패키지가 낱개로 사는것 보다 저렴한 경우\n",
    "        if min_pack<min_per*needs_line: #패키지가 남은 줄을 낱개로 사는 것 보다 저렴한 경우\n",
    "            if needs_line >= 6: \n",
    "                count =int(needs_line//6) #패키지는 6개 줄이 들어 있으므로 필요한 패키지 수를 구한다\n",
    "                needs_line-= count * 6 #패키지 갯수만큼 사고, 필요한 라인을 줄여 나간다\n",
    "                result.append(min_pack*count) #결과 추가\n",
    "            else:\n",
    "                result.append(min_pack)\n",
    "                needs_line -= 6\n",
    "        else: #낱개로 사는 것이 저렴하거나 같을 경우\n",
    "            result.append(min_per * needs_line)\n",
    "            needs_line = -1\n",
    "    else:  #낱개가 저렴한 경우\n",
    "        result.append(min_per * needs_line)\n",
    "        needs_line = -1\n",
    "print(sum(result))"
   ]
  },
  {
   "cell_type": "code",
   "execution_count": 67,
   "metadata": {},
   "outputs": [
    {
     "name": "stdout",
     "output_type": "stream",
     "text": [
      "10 3\n"
     ]
    }
   ],
   "source": [
    "N,M = list(map(int,input().split(' ')))"
   ]
  },
  {
   "cell_type": "code",
   "execution_count": 85,
   "metadata": {},
   "outputs": [
    {
     "name": "stdout",
     "output_type": "stream",
     "text": [
      "20 8\n",
      "40 7\n",
      "60 4\n",
      "here\n",
      "36\n"
     ]
    }
   ],
   "source": [
    "#개선된 방법\n",
    "P = 1000\n",
    "O = 1000\n",
    "for i in range(M):\n",
    "    Package , One = list(map(int,input().split(' ')))\n",
    "    P = min(P,Package)\n",
    "    O = min(O,One)\n",
    "if P > O*6: #패키지 사는 것 보다 낱개로 6개 사는 것이 더 저렴할 경우\n",
    "    P = O*6  #최저 패키지 값을 최저 낱개 6개로 사는 것으로 한다.\n",
    "if (N%6)*O < P: #낱개로 사는 것이 패키지 보다 저렴한 경우.\n",
    "    print((N//6)* P +(N%6)*O)\n",
    "else: #패키지를 사는 것이 저렴한 경우.\n",
    "    print((N//6)*P+P)\n",
    "    "
   ]
  }
 ],
 "metadata": {
  "kernelspec": {
   "display_name": "Python 3",
   "language": "python",
   "name": "python3"
  },
  "language_info": {
   "codemirror_mode": {
    "name": "ipython",
    "version": 3
   },
   "file_extension": ".py",
   "mimetype": "text/x-python",
   "name": "python",
   "nbconvert_exporter": "python",
   "pygments_lexer": "ipython3",
   "version": "3.7.7"
  }
 },
 "nbformat": 4,
 "nbformat_minor": 4
}
