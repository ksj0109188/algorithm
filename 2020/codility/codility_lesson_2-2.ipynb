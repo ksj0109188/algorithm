{
 "cells": [
  {
   "cell_type": "markdown",
   "metadata": {},
   "source": [
    "44% 정도의 점수를 받음<br>\n",
    "원인 시간복잡도가 O(n^2)."
   ]
  },
  {
   "cell_type": "code",
   "execution_count": 47,
   "metadata": {},
   "outputs": [],
   "source": [
    "def solution(A):\n",
    "    # write your code in Python 3.6\n",
    "    flag = len(A)*[False]\n",
    "    equal_value_index = 0\n",
    "    for i in range(len(A)):\n",
    "        if flag[i]==False:\n",
    "            for j in range(i+1,len(A)):\n",
    "                if A[i]==A[j]:\n",
    "                    flag[i]=True\n",
    "                    flag[j]=True\n",
    "                    \n",
    "    return A[flag.index(False)]\n",
    "        "
   ]
  },
  {
   "cell_type": "code",
   "execution_count": 48,
   "metadata": {},
   "outputs": [
    {
     "name": "stdout",
     "output_type": "stream",
     "text": [
      "[False, False, False, False, False, False, False]\n",
      "[True, False, True, False, True, False, True]\n",
      "[True, True, True, True, True, False, True]\n",
      "[True, True, True, True, True, False, True]\n",
      "[True, True, True, True, True, False, True]\n",
      "[True, True, True, True, True, False, True]\n",
      "[True, True, True, True, True, False, True]\n"
     ]
    },
    {
     "data": {
      "text/plain": [
       "7"
      ]
     },
     "execution_count": 48,
     "metadata": {},
     "output_type": "execute_result"
    }
   ],
   "source": [
    "solution([9,3,9,3,9,7,9])\n"
   ]
  },
  {
   "cell_type": "markdown",
   "metadata": {},
   "source": [
    "참고 : https://jobjava00.github.io/algorithm/codility/lesson2/OddOccurrencesInArray/\n",
    "<br> 포인트 : xor 연산 수행시, 짝수개 존재하는 숫자를 계산해 나아가면 결과적으로 한개만 존재하는 홀수의 값이 나온다."
   ]
  },
  {
   "cell_type": "code",
   "execution_count": 67,
   "metadata": {},
   "outputs": [],
   "source": [
    "def solution(A):\n",
    "    # write your code in Python 3.6\n",
    "    temp = 0\n",
    "    for i in range(len(A)):\n",
    "        print('temp',temp)\n",
    "        temp=temp^A[i]\n",
    "    return temp"
   ]
  },
  {
   "cell_type": "code",
   "execution_count": 68,
   "metadata": {},
   "outputs": [
    {
     "name": "stdout",
     "output_type": "stream",
     "text": [
      "temp 0\n",
      "temp 9\n",
      "temp 10\n",
      "temp 3\n",
      "temp 0\n",
      "temp 9\n",
      "temp 14\n"
     ]
    },
    {
     "data": {
      "text/plain": [
       "7"
      ]
     },
     "execution_count": 68,
     "metadata": {},
     "output_type": "execute_result"
    }
   ],
   "source": [
    "solution([9,3,9,3,9,7,9])"
   ]
  }
 ],
 "metadata": {
  "kernelspec": {
   "display_name": "Python 3",
   "language": "python",
   "name": "python3"
  },
  "language_info": {
   "codemirror_mode": {
    "name": "ipython",
    "version": 3
   },
   "file_extension": ".py",
   "mimetype": "text/x-python",
   "name": "python",
   "nbconvert_exporter": "python",
   "pygments_lexer": "ipython3",
   "version": "3.7.7"
  }
 },
 "nbformat": 4,
 "nbformat_minor": 4
}
