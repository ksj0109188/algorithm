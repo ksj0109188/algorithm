{
 "cells": [
  {
   "cell_type": "code",
   "execution_count": 59,
   "metadata": {},
   "outputs": [],
   "source": [
    "def solution(A, K):\n",
    "    A_len=len(A)\n",
    "    temp = 0\n",
    "    \n",
    "    if A_len==K or len(A) == 0: #1\n",
    "        return A\n",
    "\n",
    "    for i in range(K):\n",
    "        temp = A[-1]\n",
    "        A[1:] = A[:-1]\n",
    "        A[0] = temp\n",
    "    return A"
   ]
  },
  {
   "cell_type": "code",
   "execution_count": 60,
   "metadata": {},
   "outputs": [
    {
     "data": {
      "text/plain": [
       "[7, 6, 3, 8, 9]"
      ]
     },
     "execution_count": 60,
     "metadata": {},
     "output_type": "execute_result"
    }
   ],
   "source": [
    "solution([3,8,9,7,6],2)"
   ]
  },
  {
   "cell_type": "code",
   "execution_count": 61,
   "metadata": {},
   "outputs": [
    {
     "data": {
      "text/plain": [
       "[]"
      ]
     },
     "execution_count": 61,
     "metadata": {},
     "output_type": "execute_result"
    }
   ],
   "source": [
    "solution([],1) "
   ]
  },
  {
   "cell_type": "markdown",
   "metadata": {},
   "source": [
    "레슨 2-1\n",
    "<br>https://app.codility.com/programmers/lessons/2-arrays/\n",
    "<br>#1. 빈 배열 값을 입력으로 주었을때 처리하는 소스코드가 없어서 83의 점수를 받음. 위의 소스는 예외처리를 수정한 소스코드."
   ]
  }
 ],
 "metadata": {
  "kernelspec": {
   "display_name": "Python 3",
   "language": "python",
   "name": "python3"
  },
  "language_info": {
   "codemirror_mode": {
    "name": "ipython",
    "version": 3
   },
   "file_extension": ".py",
   "mimetype": "text/x-python",
   "name": "python",
   "nbconvert_exporter": "python",
   "pygments_lexer": "ipython3",
   "version": "3.7.7"
  }
 },
 "nbformat": 4,
 "nbformat_minor": 4
}
