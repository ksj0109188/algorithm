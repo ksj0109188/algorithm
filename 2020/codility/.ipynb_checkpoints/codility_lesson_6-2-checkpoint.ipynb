{
 "cells": [
  {
   "cell_type": "markdown",
   "metadata": {},
   "source": [
    "https://app.codility.com/demo/results/trainingD9BTUZ-Q8F/"
   ]
  },
  {
   "cell_type": "markdown",
   "metadata": {},
   "source": [
    "44% 점수코드"
   ]
  },
  {
   "cell_type": "code",
   "execution_count": 5,
   "metadata": {},
   "outputs": [],
   "source": [
    "def solution(A):\n",
    "    # write your code in Python 3.6\n",
    "    N = len(A)\n",
    "    A=sorted(A,reverse=True)\n",
    "    result = A[N-3]*A[N-2]*A[N-1]"
   ]
  },
  {
   "cell_type": "code",
   "execution_count": 23,
   "metadata": {},
   "outputs": [
    {
     "name": "stdout",
     "output_type": "stream",
     "text": [
      "[5, 4, -5, -5]\n"
     ]
    },
    {
     "data": {
      "text/plain": [
       "-100"
      ]
     },
     "execution_count": 23,
     "metadata": {},
     "output_type": "execute_result"
    }
   ],
   "source": [
    "solution([-5, 5, -5, 4])"
   ]
  },
  {
   "cell_type": "markdown",
   "metadata": {},
   "source": [
    "큰 값들 기준으로 제일 앞에 오게 정렬을 한후, 첫 번째부터 세 번째 요소까지 곱해주었다 그 결과 논리적 오류 발생.<br>\n",
    "1. 원인 음수의 곱들은 생각하지 못했다."
   ]
  },
  {
   "cell_type": "code",
   "execution_count": 3,
   "metadata": {},
   "outputs": [],
   "source": [
    "def solution1(A):\n",
    "    # write your code in Python 3.6\n",
    "    N = len(A)\n",
    "    A=sorted(A,reverse=True)\n",
    "    plus_result = A[0]*A[1]*A[2]\n",
    "    if A[N-1]<0 and A[N-2]<0:\n",
    "        minus_result = A[N-1]*A[N-2]*A[0]\n",
    "        if minus_result > plus_result:\n",
    "            return minus_result\n",
    "        else:\n",
    "            return plus_result\n",
    "    return plus_result"
   ]
  },
  {
   "cell_type": "code",
   "execution_count": 4,
   "metadata": {},
   "outputs": [
    {
     "data": {
      "text/plain": [
       "1000"
      ]
     },
     "execution_count": 4,
     "metadata": {},
     "output_type": "execute_result"
    }
   ],
   "source": [
    "solution1([10,10,10])"
   ]
  },
  {
   "cell_type": "markdown",
   "metadata": {},
   "source": [
    "\n",
    "참조:https://hangaebal.blogspot.com/2016/06/algorithm-codility-lesson-6-sorting_49.html<br>\n",
    "<br>\n",
    "<설명>\n",
    "1. 큰 값을 기준으로 정렬후, 가장 큰 값(배열의 인덱스가 0)부터 시작해 3번째 위치에 해당하는 요소까지 곱한 값 -> plus_result\n",
    "2. 음수값이 2개 존재하면 가장 오른쪽 요소(배열의 가장 작은 값)와 그 전 값을 곱하고, 양수중 가장 큰 값을 곱한값 ->minus_result\n",
    "3. plus_result와 minus_result 중 가장 큰값을 반환한다."
   ]
  },
  {
   "cell_type": "code",
   "execution_count": null,
   "metadata": {},
   "outputs": [],
   "source": []
  }
 ],
 "metadata": {
  "kernelspec": {
   "display_name": "Python 3",
   "language": "python",
   "name": "python3"
  },
  "language_info": {
   "codemirror_mode": {
    "name": "ipython",
    "version": 3
   },
   "file_extension": ".py",
   "mimetype": "text/x-python",
   "name": "python",
   "nbconvert_exporter": "python",
   "pygments_lexer": "ipython3",
   "version": "3.7.7"
  }
 },
 "nbformat": 4,
 "nbformat_minor": 4
}
