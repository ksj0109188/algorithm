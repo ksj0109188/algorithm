{
 "cells": [
  {
   "cell_type": "markdown",
   "metadata": {},
   "source": [
    "문제 : https://app.codility.com/programmers/lessons/6-sorting/triangle/\n",
    "<hr>\n",
    "<br>풀이<br>\n",
    "1. A[P] + A[Q] > A[R],\n",
    "2. A[Q] + A[R] > A[P],\n",
    "3. A[R] + A[P] > A[Q].\n",
    "<br>위에 식은 삼각형의 한 변의 길이가, 다른 두 변의 길이를 합했을 때보다 작다는 얘기들이 된다.\n",
    "<br>테스트 케이스를 보면 [10, 2, 5, 1, 8, 20]인데 위에 조건식을 만족하는 값이 있는지 확인하면 된다"
   ]
  },
  {
   "cell_type": "code",
   "execution_count": 5,
   "metadata": {},
   "outputs": [],
   "source": [
    "# you can write to stdout for debugging purposes, e.g.\n",
    "# print(\"this is a debug message\")\n",
    "\n",
    "def solution(A):\n",
    "    # write your code in Python 3.6\n",
    "    N=len(A)\n",
    "    A.sort()\n",
    "    for i in range(N-2):\n",
    "        if A[i+2]<A[i+1]+A[i]:\n",
    "            return 1\n",
    "    return 0"
   ]
  },
  {
   "cell_type": "code",
   "execution_count": 7,
   "metadata": {},
   "outputs": [
    {
     "data": {
      "text/plain": [
       "0"
      ]
     },
     "execution_count": 7,
     "metadata": {},
     "output_type": "execute_result"
    }
   ],
   "source": [
    "solution([30, 2, 5, 1, 8, 20])"
   ]
  },
  {
   "cell_type": "markdown",
   "metadata": {},
   "source": []
  }
 ],
 "metadata": {
  "kernelspec": {
   "display_name": "Python 3",
   "language": "python",
   "name": "python3"
  },
  "language_info": {
   "codemirror_mode": {
    "name": "ipython",
    "version": 3
   },
   "file_extension": ".py",
   "mimetype": "text/x-python",
   "name": "python",
   "nbconvert_exporter": "python",
   "pygments_lexer": "ipython3",
   "version": "3.7.7"
  }
 },
 "nbformat": 4,
 "nbformat_minor": 4
}
