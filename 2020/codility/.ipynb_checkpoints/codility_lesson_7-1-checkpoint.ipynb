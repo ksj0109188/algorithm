{
 "cells": [
  {
   "cell_type": "code",
   "execution_count": 4,
   "metadata": {},
   "outputs": [
    {
     "ename": "SyntaxError",
     "evalue": "name 'tail' is used prior to global declaration (<ipython-input-4-a0aab8bd419e>, line 9)",
     "output_type": "error",
     "traceback": [
      "\u001b[0;36m  File \u001b[0;32m\"<ipython-input-4-a0aab8bd419e>\"\u001b[0;36m, line \u001b[0;32m9\u001b[0m\n\u001b[0;31m    def pop():\u001b[0m\n\u001b[0m              \n^\u001b[0m\n\u001b[0;31mSyntaxError\u001b[0m\u001b[0;31m:\u001b[0m name 'tail' is used prior to global declaration\n"
     ]
    }
   ],
   "source": [
    "N=3\n",
    "queue = [0] * N\n",
    "head, tail = 0, 0\n",
    "def push(x):\n",
    "    global tail\n",
    "    tail = (tail + 1) % N\n",
    "    queue[tail] = x\n",
    "def pop():\n",
    "    global head\n",
    "    head = (head + 1) % N\n",
    "    return queue[head]\n",
    "def size():\n",
    "    return (tail - head + N) % N\n",
    "def empty():\n",
    "    return head == tail"
   ]
  },
  {
   "cell_type": "markdown",
   "metadata": {},
   "source": [
    "문제 : https://app.codility.com/programmers/lessons/7-stacks_and_queues/\n",
    "1. 25% 점수.\n",
    "2. 해당 문제를 queue로 접근해 맨 앞 괄호와 맨 뒤 괄호 비교만 하는것을 생각했다."
   ]
  },
  {
   "cell_type": "code",
   "execution_count": 44,
   "metadata": {},
   "outputs": [],
   "source": [
    "from collections import deque\n",
    "\n",
    "def solution(S):\n",
    "    # write your code in Python 3.6\n",
    "    N = len(S)\n",
    "    queue = deque(S)\n",
    "    result = 0\n",
    "    for i in range(N//2):\n",
    "        check_open=queue.popleft()\n",
    "        check_close=queue.pop()\n",
    "        print(\"i\",i)\n",
    "        print(\"check_open\",check_open)\n",
    "        print(\"check_close\",check_close)\n",
    "        print(\"result\",result)\n",
    "        if check_open == '(' and check_close==')':\n",
    "            result = 1\n",
    "        elif check_open == '[' and check_close==']':\n",
    "            result = 1\n",
    "        elif check_open == '{' and check_close == '}':\n",
    "            result = 1\n",
    "        elif check_open == ')' and check_close=='(':\n",
    "            result = 1\n",
    "        elif check_open == ']' and check_close=='[':\n",
    "            result = 1\n",
    "        elif check_open == '}' and check_close == '{':\n",
    "            result = 1\n",
    "        else:\n",
    "            result = 0\n",
    "            break\n",
    "            \n",
    "    return result"
   ]
  },
  {
   "cell_type": "code",
   "execution_count": 48,
   "metadata": {},
   "outputs": [
    {
     "data": {
      "text/plain": [
       "1"
      ]
     },
     "execution_count": 48,
     "metadata": {},
     "output_type": "execute_result"
    }
   ],
   "source": [
    "참조 : https://killong.blogspot.com/2019/04/codility-lesson7-brackets.html"
   ]
  },
  {
   "cell_type": "code",
   "execution_count": 72,
   "metadata": {},
   "outputs": [],
   "source": [
    "def solution(S):\n",
    "    # write your code in Python 3.6\n",
    "    stack_list = []\n",
    "    if len(S)<=0:\n",
    "        return 1\n",
    "    \n",
    "    for item in S:\n",
    "        if item =='(' or item =='{' or item =='[':\n",
    "            stack_list.append(item)\n",
    "        else:\n",
    "            if len(stack_list)==0:\n",
    "                return 0\n",
    "            stack_item = stack_list.pop()\n",
    "            if item == ')' and stack_item != '(':\n",
    "                return 0\n",
    "            elif item == '}' and stack_item != '{':\n",
    "                return 0\n",
    "            elif item == ']' and stack_item != '[':\n",
    "                return 0\n",
    "    if len(stack_list)!=0:\n",
    "        return 0\n",
    "    return 1"
   ]
  },
  {
   "cell_type": "code",
   "execution_count": 73,
   "metadata": {},
   "outputs": [
    {
     "data": {
      "text/plain": [
       "1"
      ]
     },
     "execution_count": 73,
     "metadata": {},
     "output_type": "execute_result"
    }
   ],
   "source": [
    "solution(\"\")"
   ]
  },
  {
   "cell_type": "code",
   "execution_count": null,
   "metadata": {},
   "outputs": [],
   "source": []
  }
 ],
 "metadata": {
  "kernelspec": {
   "display_name": "Python 3",
   "language": "python",
   "name": "python3"
  },
  "language_info": {
   "codemirror_mode": {
    "name": "ipython",
    "version": 3
   },
   "file_extension": ".py",
   "mimetype": "text/x-python",
   "name": "python",
   "nbconvert_exporter": "python",
   "pygments_lexer": "ipython3",
   "version": "3.7.7"
  }
 },
 "nbformat": 4,
 "nbformat_minor": 4
}
