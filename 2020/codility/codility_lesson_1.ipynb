{
 "cells": [
  {
   "cell_type": "markdown",
   "metadata": {},
   "source": [
    "문제 : https://app.codility.com/programmers/lessons/1-iterations/binary_gap/<br>\n"
   ]
  },
  {
   "cell_type": "markdown",
   "metadata": {},
   "source": [
    "Point : 10진수를 2진수를 표현후, 2진수의 1과 1사이의 존재하는 0의 개수를 카운트."
   ]
  },
  {
   "cell_type": "code",
   "execution_count": 18,
   "metadata": {},
   "outputs": [],
   "source": [
    "# you can write to stdout for debugging purposes, e.g.\n",
    "# print(\"this is a debug message\")\n",
    "# 1의 위치 차이가 0이면 공백이 없다는 뜻.\n",
    "def solution(N):\n",
    "    # write your code in Python 3.6\n",
    "    flag = False\n",
    "    mx_value= 0\n",
    "    count = 0\n",
    "    bin_num = list(bin(N))\n",
    "    for i in bin_num[2:]:\n",
    "        if flag==False and i=='1':\n",
    "            flag = True\n",
    "            \n",
    "        elif flag==True and i =='0':\n",
    "            count +=1\n",
    "            \n",
    "        elif flag==True and i=='1':\n",
    "            mx_value = max(mx_value,count)\n",
    "            count = 0\n",
    "    return mx_value"
   ]
  },
  {
   "cell_type": "code",
   "execution_count": 19,
   "metadata": {},
   "outputs": [
    {
     "data": {
      "text/plain": [
       "5"
      ]
     },
     "execution_count": 19,
     "metadata": {},
     "output_type": "execute_result"
    }
   ],
   "source": [
    "solution(1041)"
   ]
  },
  {
   "cell_type": "code",
   "execution_count": null,
   "metadata": {},
   "outputs": [],
   "source": []
  }
 ],
 "metadata": {
  "kernelspec": {
   "display_name": "Python 3",
   "language": "python",
   "name": "python3"
  },
  "language_info": {
   "codemirror_mode": {
    "name": "ipython",
    "version": 3
   },
   "file_extension": ".py",
   "mimetype": "text/x-python",
   "name": "python",
   "nbconvert_exporter": "python",
   "pygments_lexer": "ipython3",
   "version": "3.7.7"
  }
 },
 "nbformat": 4,
 "nbformat_minor": 4
}
