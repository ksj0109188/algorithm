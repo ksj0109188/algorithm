{
 "cells": [
  {
   "cell_type": "markdown",
   "metadata": {},
   "source": [
    "문제\n",
    "두 종류의 부등호 기호 ‘<’와 ‘>’가 k개 나열된 순서열  A가 있다. 우리는 이 부등호 기호 앞뒤에 서로 다른 한 자릿수 숫자를 넣어서 모든 부등호 관계를 만족시키려고 한다. 예를 들어, 제시된 부등호 순서열 A가 다음과 같다고 하자. \n",
    "\n",
    "A =>  < < < > < < > < >\n",
    "\n",
    "부등호 기호 앞뒤에 넣을 수 있는 숫자는 0부터 9까지의 정수이며 선택된 숫자는 모두 달라야 한다. 아래는 부등호 순서열 A를 만족시키는 한 예이다. \n",
    "\n",
    "3 < 4 < 5 < 6 > 1 < 2 < 8 > 7 < 9 > 0\n",
    "\n",
    "이 상황에서 부등호 기호를 제거한 뒤, 숫자를 모두 붙이면 하나의 수를 만들 수 있는데 이 수를 주어진 부등호 관계를 만족시키는 정수라고 한다. 그런데 주어진 부등호 관계를 만족하는 정수는 하나 이상 존재한다. 예를 들어 3456128790 뿐만 아니라 5689023174도 아래와 같이 부등호 관계 A를 만족시킨다. \n",
    "\n",
    "5 < 6 < 8 < 9 > 0 < 2 < 3 > 1 < 7 > 4\n",
    "\n",
    "여러분은 제시된 k개의 부등호 순서를 만족하는 (k+1)자리의 정수 중에서 최댓값과 최솟값을 찾아야 한다. 앞서 설명한 대로 각 부등호의 앞뒤에 들어가는 숫자는 { 0, 1, 2, 3, 4, 5, 6, 7, 8, 9 }중에서 선택해야 하며 선택된 숫자는 모두 달라야 한다. "
   ]
  },
  {
   "cell_type": "markdown",
   "metadata": {},
   "source": [
    "입력<br>\n",
    "첫 줄에 부등호 문자의 개수를 나타내는 정수 k가 주어진다. 그 다음 줄에는 k개의 부등호 기호가 하나의 공백을 두고 한 줄에 모두 제시된다. k의 범위는 2 ≤ k ≤ 9 이다. <br>\n",
    "\n",
    "출력<br>\n",
    "여러분은 제시된 부등호 관계를 만족하는 k+1 자리의 최대, 최소 정수를 첫째 줄과 둘째 줄에 각각 출력해야 한다. 단 아래 예(1)과 같이 첫 자리가 0인 경우도 정수에 포함되어야 한다. 모든 입력에 답은 항상 존재하며 출력 정수는 하나의 문자열이 되도록 해야 한다. <br><br>\n",
    "\n",
    "예제 입력 1 <br>\n",
    "2<br>\n",
    "< > <br>\n",
    "예제 출력 1  <br>\n",
    "897<br>\n",
    "021\n"
   ]
  },
  {
   "cell_type": "code",
   "execution_count": 91,
   "metadata": {},
   "outputs": [
    {
     "name": "stdout",
     "output_type": "stream",
     "text": [
      "2\n",
      "< >\n"
     ]
    }
   ],
   "source": [
    "k = int(input())\n",
    "op = input().split(' ')\n",
    "mx, mn = \"\",\"\"\n",
    "c=[False]*10"
   ]
  },
  {
   "cell_type": "code",
   "execution_count": 92,
   "metadata": {},
   "outputs": [
    {
     "name": "stdout",
     "output_type": "stream",
     "text": [
      "897\n",
      "021\n"
     ]
    }
   ],
   "source": [
    "def possible(i,j,k):\n",
    "    if k=='<':\n",
    "        return i<j\n",
    "    if k=='>':\n",
    "        return i>j\n",
    "    return True\n",
    "\n",
    "def colculation(cnt,s):\n",
    "    global mx, mn\n",
    "    if cnt == k+1:\n",
    "        if not len(mn): #최초 mn의 길이가 0일때 현재 부등식을 만족하는 숫자를 넣으면 최소값이 저장된다.\n",
    "            mn = s\n",
    "        else:\n",
    "            mx = s #부등식을 만족하는 수를 계속해서 업데이트해서 최종적으로 가장 큰 값이 저장된다.\n",
    "        return\n",
    "    \n",
    "    for i in range(10): #0~10까지 수를 반복\n",
    "        if not c[i]: #만약 중복됬다면 비교하지 않음\n",
    "            if cnt==0 or possible(s[-1],str(i),op[cnt-1]): \n",
    "                c[i]=True\n",
    "                colculation(cnt+1,s+str(i))\n",
    "                c[i]=False #재귀함수 호출이 끝나면 해당 숫자는 다시 비교해야하는 수이므로 False로 지정한다.\n",
    "colculation(0,\"\")\n",
    "print(mx)\n",
    "print(mn)"
   ]
  },
  {
   "cell_type": "markdown",
   "metadata": {},
   "source": [
    "참조 https://hjp845.tistory.com/128"
   ]
  },
  {
   "cell_type": "markdown",
   "metadata": {},
   "source": [
    "0 ~ 10 까지 반복을 재귀함수로 하는 아이디어가 핵심이다."
   ]
  },
  {
   "cell_type": "code",
   "execution_count": null,
   "metadata": {},
   "outputs": [],
   "source": []
  }
 ],
 "metadata": {
  "kernelspec": {
   "display_name": "Python 3",
   "language": "python",
   "name": "python3"
  },
  "language_info": {
   "codemirror_mode": {
    "name": "ipython",
    "version": 3
   },
   "file_extension": ".py",
   "mimetype": "text/x-python",
   "name": "python",
   "nbconvert_exporter": "python",
   "pygments_lexer": "ipython3",
   "version": "3.7.7"
  }
 },
 "nbformat": 4,
 "nbformat_minor": 4
}
