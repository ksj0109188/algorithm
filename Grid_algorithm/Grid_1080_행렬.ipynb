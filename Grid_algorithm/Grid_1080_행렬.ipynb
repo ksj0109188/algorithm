{
 "cells": [
  {
   "cell_type": "markdown",
   "metadata": {},
   "source": [
    "문제<br>\n",
    "0과 1로만 이루어진 행렬 A와 행렬 B가 있다. 이때, 행렬 A를 행렬 B로 바꾸는데 필요한 연산의 횟수의 최솟값을 구하는 프로그램을 작성하시오.\n",
    "\n",
    "행렬을 변환하는 연산은 어떤 3*3크기의 부분 행렬에 있는 모든 원소를 뒤집는 것이다. (0 -> 1, 1 -> 0)\n",
    "\n",
    "입력<br>\n",
    "첫째 줄에 행렬의 크기 N M이 주어진다. N과 M은 50보다 작거나 같은 자연수이다. 둘째 줄부터 N개의 줄에는 행렬 A가 주어지고, 그 다음줄부터 N개의 줄에는 행렬 B가 주어진다.\n",
    "<br>\n",
    "출력<br>\n",
    "첫째 줄에 문제의 정답을 출력한다. 만약 A를 B로 바꿀 수 없다면 -1을 출력한다.<br><br>\n",
    "\n",
    "예제 입력 1<br>\n",
    "3 4<br>\n",
    "0000<br>\n",
    "0010<br>\n",
    "0000<br>\n",
    "1001<br>\n",
    "1011<br>\n",
    "1001<br>\n",
    "예제 출력 <br>\n",
    "2"
   ]
  },
  {
   "cell_type": "code",
   "execution_count": 20,
   "metadata": {},
   "outputs": [
    {
     "name": "stdout",
     "output_type": "stream",
     "text": [
      "1 1\n"
     ]
    }
   ],
   "source": [
    "N, M = list(map(int,input().split(' ')))"
   ]
  },
  {
   "cell_type": "code",
   "execution_count": 21,
   "metadata": {},
   "outputs": [
    {
     "name": "stdout",
     "output_type": "stream",
     "text": [
      "1\n",
      "0\n"
     ]
    }
   ],
   "source": [
    "A = [list(map(int,input())) for _ in range(N)]\n",
    "B = [list(map(int,input())) for _ in range(N)]"
   ]
  },
  {
   "cell_type": "code",
   "execution_count": 22,
   "metadata": {},
   "outputs": [
    {
     "name": "stdout",
     "output_type": "stream",
     "text": [
      "-1\n"
     ]
    }
   ],
   "source": [
    "def Filter(x, y): #3*3 만큼 원소들을 바꿔주는 함수입니다.\n",
    "    for i in range(x, x+3):\n",
    "        for j in range(y, y+3):\n",
    "            A[i][j] = 1 - A[i][j]\n",
    "            \n",
    "def iscorrect(n,m): #원소들을 다 뒤집은 후 A,B 행렬이 같은지 알려주는 함수 입니다.\n",
    "    for i in range(n):\n",
    "        for j in range(m):\n",
    "            if A[i][j]!=B[i][j]:\n",
    "                return False\n",
    "    return True\n",
    " \n",
    "def Work(n,m):\n",
    "    cnt = 0\n",
    "    for i in range(n-2): #3*3 부분행렬을 적용할 인덱스 위치를 지정하는 코드입니다.\n",
    "        for j in range(m-2):\n",
    "            if A[i][j]!=B[i][j]:\n",
    "                Filter(i,j) # 해당 위치에 값이 같지 않다면 3*3만큼 해당 원소를 바꿔줍니다 0->1, 1->0\n",
    "                cnt +=1\n",
    "\n",
    "    if iscorrect(n,m):\n",
    "        return cnt\n",
    "    else :\n",
    "        return -1\n",
    "\n",
    "print(Work(N,M))"
   ]
  },
  {
   "cell_type": "markdown",
   "metadata": {},
   "source": [
    "<br>참조 블로그\n",
    "# https://m.blog.naver.com/PostView.nhn?blogId=pjok1122&logNo=221652193756&proxyReferer=https:%2F%2Fwww.google.co.kr%2F\n"
   ]
  },
  {
   "cell_type": "markdown",
   "metadata": {},
   "source": [
    "A에 행렬에 부분행렬을 적용해 B와 같은 값은 원소의 행렬을 갖게 하는 문제이며, 부분행렬을 적용한 A특정 원소가 B와 같지 않으면 A의 부분행렬 3*3에 해당하는 모든 원소를 0->1 , 1->0으로 바꾸는 작업을 실시 했을때, 일치하면 그 횟수를 반환, 적용되지 않으면 -1를 반환한다."
   ]
  },
  {
   "cell_type": "code",
   "execution_count": null,
   "metadata": {},
   "outputs": [],
   "source": []
  }
 ],
 "metadata": {
  "kernelspec": {
   "display_name": "Python 3",
   "language": "python",
   "name": "python3"
  },
  "language_info": {
   "codemirror_mode": {
    "name": "ipython",
    "version": 3
   },
   "file_extension": ".py",
   "mimetype": "text/x-python",
   "name": "python",
   "nbconvert_exporter": "python",
   "pygments_lexer": "ipython3",
   "version": "3.7.7"
  }
 },
 "nbformat": 4,
 "nbformat_minor": 4
}
