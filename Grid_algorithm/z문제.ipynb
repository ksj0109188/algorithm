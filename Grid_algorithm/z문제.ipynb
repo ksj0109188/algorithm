{
 "cells": [
  {
   "cell_type": "code",
   "execution_count": 33,
   "metadata": {},
   "outputs": [
    {
     "name": "stdout",
     "output_type": "stream",
     "text": [
      "2 3 1\n"
     ]
    }
   ],
   "source": [
    "N, r, c = list(map(int, input().split(' ')))"
   ]
  },
  {
   "cell_type": "code",
   "execution_count": 34,
   "metadata": {},
   "outputs": [],
   "source": [
    "count = 0\n",
    "def search(n,x,y):\n",
    "    global count\n",
    "    if n==2:\n",
    "        if x==r and y==c:\n",
    "            print(count)\n",
    "            return\n",
    "        count+=1\n",
    "        if x==r and y+1==c:\n",
    "            print(count)\n",
    "            return\n",
    "        count+=1\n",
    "        if x+1==r and y==c:\n",
    "            print(count)\n",
    "            return\n",
    "        count+=1\n",
    "        if x+1==r and y+1==c:\n",
    "            print(count)\n",
    "            return\n",
    "        count +=1\n",
    "        return\n",
    "    search(n/2,x,y)\n",
    "    search(n/2,x,y+n/2)\n",
    "    search(n/2,x+n/2,y)\n",
    "    search(n/2,x+n/2,y+n/2)"
   ]
  },
  {
   "cell_type": "code",
   "execution_count": 35,
   "metadata": {},
   "outputs": [
    {
     "name": "stdout",
     "output_type": "stream",
     "text": [
      "11\n"
     ]
    }
   ],
   "source": [
    "search(2**N,0,0)"
   ]
  },
  {
   "cell_type": "code",
   "execution_count": 52,
   "metadata": {},
   "outputs": [],
   "source": [
    "x = 1\n",
    "def do():\n",
    "    global x\n",
    "    x=2\n",
    "    print(x)\n"
   ]
  },
  {
   "cell_type": "code",
   "execution_count": 53,
   "metadata": {},
   "outputs": [
    {
     "name": "stdout",
     "output_type": "stream",
     "text": [
      "2\n"
     ]
    }
   ],
   "source": [
    "do()"
   ]
  },
  {
   "cell_type": "code",
   "execution_count": 54,
   "metadata": {},
   "outputs": [
    {
     "data": {
      "text/plain": [
       "2"
      ]
     },
     "execution_count": 54,
     "metadata": {},
     "output_type": "execute_result"
    }
   ],
   "source": [
    "x"
   ]
  }
 ],
 "metadata": {
  "kernelspec": {
   "display_name": "Python 3",
   "language": "python",
   "name": "python3"
  },
  "language_info": {
   "codemirror_mode": {
    "name": "ipython",
    "version": 3
   },
   "file_extension": ".py",
   "mimetype": "text/x-python",
   "name": "python",
   "nbconvert_exporter": "python",
   "pygments_lexer": "ipython3",
   "version": "3.7.6"
  }
 },
 "nbformat": 4,
 "nbformat_minor": 4
}
