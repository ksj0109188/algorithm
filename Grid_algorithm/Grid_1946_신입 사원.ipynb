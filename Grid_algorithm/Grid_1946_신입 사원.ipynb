{
 "cells": [
  {
   "cell_type": "markdown",
   "metadata": {},
   "source": [
    "문제\n",
    "언제나 최고만을 지향하는 굴지의 대기업 진영 주식회사가 신규 사원 채용을 실시한다. 인재 선발 시험은 1차 서류심사와 2차 면접시험으로 이루어진다. 최고만을 지향한다는 기업의 이념에 따라 그들은 최고의 인재들만을 사원으로 선발하고 싶어 한다.\n",
    "\n",
    "그래서 진영 주식회사는, 다른 모든 지원자와 비교했을 때 서류심사 성적과 면접시험 성적 중 적어도 하나가 다른 지원자보다 떨어지지 않는 자만 선발한다는 원칙을 세웠다. 즉, 어떤 지원자 A의 성적이 다른 어떤 지원자 B의 성적에 비해 서류 심사 결과와 면접 성적이 모두 떨어진다면 A는 결코 선발되지 않는다.\n",
    "\n",
    "이러한 조건을 만족시키면서, 진영 주식회사가 이번 신규 사원 채용에서 선발할 수 있는 신입사원의 최대 인원수를 구하는 프로그램을 작성하시오.\n",
    "\n",
    "입력<br>\n",
    "첫째 줄에는 테스트 케이스의 개수 T(1 ≤ T ≤ 20)가 주어진다. 각 테스트 케이스의 첫째 줄에 지원자의 숫자 N(1 ≤ N ≤ 100,000)이 주어진다. 둘째 줄부터 N개 줄에는 각각의 지원자의 서류심사 성적, 면접 성적의 순위가 공백을 사이에 두고 한 줄에 주어진다. 두 성적 순위는 모두 1위부터 N위까지 동석차 없이 결정된다고 가정한다.\n",
    "\n",
    "출력<br>\n",
    "각 테스트 케이스에 대해서 진영 주식회사가 선발할 수 있는 신입사원의 최대 인원수를 한 줄에 하나씩 출력한다.\n",
    "\n",
    "예제 입력 1 <br>\n",
    "2 <br>\n",
    "5<br>\n",
    "3 2<br>\n",
    "1 4<br>\n",
    "4 1<br>\n",
    "2 3<br>\n",
    "5 5<br>\n",
    "7<br>\n",
    "3 6<br>\n",
    "7 3<br>\n",
    "4 2<br>\n",
    "1 4<br>\n",
    "5 7<br>\n",
    "2 5<br>\n",
    "6 1<br><br>\n",
    "예제 출력 1 <br>\n",
    "4<br>\n",
    "3"
   ]
  },
  {
   "cell_type": "code",
   "execution_count": 30,
   "metadata": {},
   "outputs": [
    {
     "name": "stdout",
     "output_type": "stream",
     "text": [
      "2\n",
      "5\n",
      "3 2\n",
      "1 4\n",
      "4 1\n",
      "2 3\n",
      "5 5\n",
      "7\n",
      "3 6\n",
      "7 3\n",
      "4 2\n",
      "1 4\n",
      "5 7\n",
      "2 5\n",
      "6 1\n"
     ]
    },
    {
     "data": {
      "text/plain": [
       "[4, 3]"
      ]
     },
     "execution_count": 30,
     "metadata": {},
     "output_type": "execute_result"
    }
   ],
   "source": [
    "T = int(input())\n",
    "for i in range(T):\n",
    "    candidate = []\n",
    "    count = 0\n",
    "    N = int(input())\n",
    "    for j in range(N):\n",
    "        candidate.append(list(map(int, input().split(' '))))\n",
    "    candidate = sorted(candidate, key=lambda x : x[0])\n",
    "    for j in range(len(candidate)):\n",
    "        if j == 0:\n",
    "            score=candidate[j][1]\n",
    "            count += 1\n",
    "        elif score>candidate[j][1]:\n",
    "            score=candidate[j][1]\n",
    "            count+=1\n",
    "    print(count)"
   ]
  },
  {
   "cell_type": "markdown",
   "metadata": {},
   "source": [
    "## 문제 풀이\n",
    "1. 접근방식은 서류점수를 기준으로 정렬한다. (값이 낮은것이 우선순위가 높은 것이다 즉 숫자1이 1등)\n",
    "2. 서류전형 1등인 경우, 다른 지원자 보다 제일 월등하므로 무조건 선발한다.\n",
    "3. 서류전형 1등의 면접점수를 기준으로 그 보다 낮은값(우선순위가 높은 값)을 구하면 된다.\n",
    "\n",
    "## 의문점\n",
    "1. 반대로 면접점수를 기준으로 정렬 했을때 경우는?<br>\n",
    "6 1<br>\n",
    "4 2<br>\n",
    "7 3<br>\n",
    "1 4<br>\n",
    "2 5<br>\n",
    "3 6<br>\n",
    "5 7<br>\n",
    "2. 면접점수 기준으로 제일 높은 사람을 선발한다 가정하자.\n",
    "3. 면접점수 1등의 서류점수 기준으로 그 값보다 낮은 서류점수 값(우선순위가 높은 값)을 선발한다 가정하면?\n",
    "4. (4,2),(1,4) + (6,1)이 선발된다.\n",
    "\n",
    "## 주의\n",
    "높은 숫자가 우선순위가 낮은 것이다. 이 부분 때문에 문제를 이해 하는데 햇갈렸다."
   ]
  }
 ],
 "metadata": {
  "kernelspec": {
   "display_name": "Python 3",
   "language": "python",
   "name": "python3"
  },
  "language_info": {
   "codemirror_mode": {
    "name": "ipython",
    "version": 3
   },
   "file_extension": ".py",
   "mimetype": "text/x-python",
   "name": "python",
   "nbconvert_exporter": "python",
   "pygments_lexer": "ipython3",
   "version": "3.7.7"
  }
 },
 "nbformat": 4,
 "nbformat_minor": 4
}
