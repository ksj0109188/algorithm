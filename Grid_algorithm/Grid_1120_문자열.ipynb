{
 "cells": [
  {
   "cell_type": "markdown",
   "metadata": {},
   "source": [
    "문제\n",
    "길이가 N으로 같은 문자열 X와 Y가 있을 때, 두 문자열 X와 Y의 차이는 X[i] ≠ Y[i]인 i의 개수이다. 예를 들어, X=”jimin”, Y=”minji”이면, 둘의 차이는 4이다.\n",
    "\n",
    "두 문자열 A와 B가 주어진다. 이때, A의 길이는 B의 길이보다 작거나 같다. 이제 A의 길이가 B의 길이와 같아질 때 까지 다음과 같은 연산을 할 수 있다.\n",
    "\n",
    "A의 앞에 아무 알파벳이나 추가한다.\n",
    "A의 뒤에 아무 알파벳이나 추가한다.\n",
    "이때, A와 B의 길이가 같으면서, A와 B의 차이를 최소로 하는 프로그램을 작성하시오.\n",
    "\n",
    "입력\n",
    "첫째 줄에 A와 B가 주어진다. A와 B의 길이는 최대 50이고, A의 길이는 B의 길이보다 작거나 같고, 알파벳 소문자로만 이루어져 있다.\n",
    "\n",
    "출력\n",
    "A와 B의 길이가 같으면서, A와 B의 차이를 최소가 되도록 했을 때, 그 차이를 출력하시오.\n",
    "\n",
    "예제 입력 1\n",
    "adaabc aababbc\n",
    "예제 출력 1 \n",
    "2"
   ]
  },
  {
   "cell_type": "markdown",
   "metadata": {},
   "source": [
    "주어진 문자 X의 길이만큼 Y와 비교하여 동일한 문자열을 찾아낸다.\n",
    "예로 abd fabca 일경우, abd | fab // abd | abc // abd | bca\n",
    "Y와 동일문자 갯수가 X에 있으므로, X-동일문자 갯수를 연산후 출력한다."
   ]
  },
  {
   "cell_type": "code",
   "execution_count": 62,
   "metadata": {},
   "outputs": [
    {
     "name": "stdout",
     "output_type": "stream",
     "text": [
      "abd fabca\n"
     ]
    }
   ],
   "source": [
    "X, Y = list(input().split(\" \"))"
   ]
  },
  {
   "cell_type": "code",
   "execution_count": 63,
   "metadata": {},
   "outputs": [
    {
     "name": "stdout",
     "output_type": "stream",
     "text": [
      "1\n"
     ]
    }
   ],
   "source": [
    "x_len, y_len =len(X),len(Y)\n",
    "gap = abs(x_len - y_len)\n",
    "total_max = 0\n",
    "for i in range(gap+1): # X문자열을 Y문자열과 비교할 횟수\n",
    "    count = 0\n",
    "    for j in range(x_len): #X문자열과 Y문자열 비교\n",
    "        if X[j]==Y[j+i]:\n",
    "            count +=1\n",
    "    total_max=max(total_max,count)\n",
    "print(x_len-total_max)"
   ]
  },
  {
   "cell_type": "code",
   "execution_count": 22,
   "metadata": {},
   "outputs": [
    {
     "name": "stdout",
     "output_type": "stream",
     "text": [
      "3\n"
     ]
    }
   ],
   "source": [
    "# 틀린코드 abc xxbzzz케이스 에러, 앞뒤 한 번씩 추가하는 알고리즘 구현 안했음.\n",
    "# gap = abs(x_len - y_len)\n",
    "# back = 0\n",
    "# front = 0\n",
    "# for x,y in zip(X,Y):\n",
    "#     if x!=y:\n",
    "#         back +=1\n",
    "# for x,y in zip(Y[:gap]+X,Y):\n",
    "#     if x!=y:\n",
    "#         front +=1\n",
    "\n",
    "# result = min(back,front)\n",
    "# print(result)\n"
   ]
  },
  {
   "cell_type": "code",
   "execution_count": 185,
   "metadata": {},
   "outputs": [
    {
     "data": {
      "text/plain": [
       "'bcd'"
      ]
     },
     "execution_count": 185,
     "metadata": {},
     "output_type": "execute_result"
    }
   ],
   "source": [
    "abc xxbzzz ->  xabczz 2 //양옆으로 추가한 경우\n",
    "abd fabca -> fabda 1 //양옆으로 추가한 경우\n",
    "adaabc aababbc -> aadaabc\n",
    "abc fafbfc -> fabcfc\n",
    "abc문자열 길이를 통해서 Y문자열부터 자른후 비교하면 어떨까"
   ]
  }
 ],
 "metadata": {
  "kernelspec": {
   "display_name": "Python 3",
   "language": "python",
   "name": "python3"
  },
  "language_info": {
   "codemirror_mode": {
    "name": "ipython",
    "version": 3
   },
   "file_extension": ".py",
   "mimetype": "text/x-python",
   "name": "python",
   "nbconvert_exporter": "python",
   "pygments_lexer": "ipython3",
   "version": "3.7.7"
  }
 },
 "nbformat": 4,
 "nbformat_minor": 4
}
