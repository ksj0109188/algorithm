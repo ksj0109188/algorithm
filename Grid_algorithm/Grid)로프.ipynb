{
 "cells": [
  {
   "cell_type": "code",
   "execution_count": 47,
   "metadata": {},
   "outputs": [
    {
     "name": "stdout",
     "output_type": "stream",
     "text": [
      "2\n"
     ]
    }
   ],
   "source": [
    "n = int(input())"
   ]
  },
  {
   "cell_type": "code",
   "execution_count": 48,
   "metadata": {},
   "outputs": [
    {
     "name": "stdout",
     "output_type": "stream",
     "text": [
      "15\n",
      "10\n",
      "20\n"
     ]
    }
   ],
   "source": [
    "# 정답코드\n",
    "weight_list = [] \n",
    "for i in range(n):\n",
    "    weight_list.append(int(input()))\n",
    "max_value\n",
    "for i in range(len(weight_list)):\n",
    "    max_value = max(max_value,weight_list[i]*(i+1))\n",
    "print(max_value)"
   ]
  },
  {
   "cell_type": "code",
   "execution_count": 49,
   "metadata": {},
   "outputs": [],
   "source": [
    "# 틀린코드\n",
    "배열이 정렬이 안 되 있을경우, 즉 15,10일경우 15*n(2)가 최대 값이 된다."
   ]
  },
  {
   "cell_type": "code",
   "execution_count": 51,
   "metadata": {},
   "outputs": [
    {
     "name": "stdout",
     "output_type": "stream",
     "text": [
      "2\n",
      "15\n",
      "10\n",
      "30\n"
     ]
    }
   ],
   "source": [
    "n = int(input())\n",
    "weight_list = [] \n",
    "for i in range(n):\n",
    "    weight_list.append(int(input()))\n",
    "max_value = 0\n",
    "for i in range(len(weight_list)):\n",
    "    max_value = max(max_value,weight_list[i]*n) #이 부분이 틀림. 배열이 역순시 에러발생\n",
    "    n-=1\n",
    "print(max_value)"
   ]
  },
  {
   "cell_type": "code",
   "execution_count": null,
   "metadata": {},
   "outputs": [],
   "source": []
  }
 ],
 "metadata": {
  "kernelspec": {
   "display_name": "Python 3",
   "language": "python",
   "name": "python3"
  },
  "language_info": {
   "codemirror_mode": {
    "name": "ipython",
    "version": 3
   },
   "file_extension": ".py",
   "mimetype": "text/x-python",
   "name": "python",
   "nbconvert_exporter": "python",
   "pygments_lexer": "ipython3",
   "version": "3.7.7"
  }
 },
 "nbformat": 4,
 "nbformat_minor": 4
}
