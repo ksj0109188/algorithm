{
 "cells": [
  {
   "attachments": {},
   "cell_type": "markdown",
   "metadata": {},
   "source": [
    "반도체를 설계할 때 n개의 포트를 다른 n개의 포트와 연결해야 할 때가 있다.\n",
    "\n",
    "<img src=\"https://www.acmicpc.net/JudgeOnline/upload/201103/chip.png\">\n",
    "\n",
    "예를 들어 왼쪽 그림이 n개의 포트와 다른 n개의 포트를 어떻게 연결해야 하는지를 나타낸다. 하지만 이와 같이 연결을 할 경우에는 연결선이 서로 꼬이기 때문에 이와 같이 연결할 수 없다. n개의 포트가 다른 n개의 포트와 어떻게 연결되어야 하는지가 주어졌을 때, 연결선이 서로 꼬이지(겹치지, 교차하지) 않도록 하면서 최대 몇 개까지 연결할 수 있는지를 알아내는 프로그램을 작성하시오\n",
    "<br><br>\n",
    "출처 - 백준알고리즘 문제 2352 https://www.acmicpc.net/problem/2352 "
   ]
  },
  {
   "cell_type": "markdown",
   "metadata": {},
   "source": [
    "입력<br>\n",
    "첫째 줄에 정수 n(1 ≤ n ≤ 40,000)이 주어진다. 다음 줄에는 차례로 1번 포트와 연결되어야 하는 포트 번호, 2번 포트와 연결되어야 하는 포트 번호, …, n번 포트와 연결되어야 하는 포트 번호가 주어진다. 이 수들은 1 이상 n 이하이며 서로 같은 수는 없다고 가정하자.\n",
    "<br>\n",
    "출력<br>\n",
    "첫째 줄에 최대 연결 개수를 출력한다.\n",
    "<br>\n",
    "예제 입력 1 <br>\n",
    "6<br>\n",
    "4 2 6 3 1 5<br>\n",
    "예제 출력 1 <br>\n",
    "3"
   ]
  },
  {
   "cell_type": "code",
   "execution_count": 80,
   "metadata": {},
   "outputs": [
    {
     "name": "stdout",
     "output_type": "stream",
     "text": [
      "8\n",
      "1 2 7 8 3 4 5 6\n"
     ]
    }
   ],
   "source": [
    "n = int(input())\n",
    "input_list = input().split(' ')"
   ]
  },
  {
   "cell_type": "code",
   "execution_count": 87,
   "metadata": {},
   "outputs": [
    {
     "name": "stdout",
     "output_type": "stream",
     "text": [
      "4\n",
      "[('1', '1'), ('2', '2'), ('5', '3'), ('7', '5')]\n"
     ]
    }
   ],
   "source": [
    "# 시간초과 코드\n",
    "check_list = []\n",
    "def check(i,j):\n",
    "    lenght=len(check_list)-1\n",
    "    i=str(i)\n",
    "    if (in check_list)check_list[lenght][0]>i or j<check_list[lenght][0] :\n",
    "        return False\n",
    "    return True\n",
    "def process(l1):\n",
    "    min_value = 0\n",
    "    count = 0\n",
    "    for i in range(n):\n",
    "        for j in range(n):\n",
    "            if(min_value==abs(int(j+1)-int(l1[j]))):\n",
    "                if min_value==0 or check(j+1,l1[j]):#j=왼쪽 포트, l1[j]=오른쪽 포트\n",
    "                    check_list.append((str(j+1),l1[j]))\n",
    "                    count+=1\n",
    "        min_value += 1\n",
    "    print(count)\n",
    "    print(check_list)\n",
    "process(input_list)"
   ]
  },
  {
   "cell_type": "code",
   "execution_count": 13,
   "metadata": {},
   "outputs": [
    {
     "name": "stdout",
     "output_type": "stream",
     "text": [
      "6\n",
      "4 2 6 3 1 5\n"
     ]
    }
   ],
   "source": [
    "n = int(input())\n",
    "s = list(map(int, input().split()))"
   ]
  },
  {
   "cell_type": "code",
   "execution_count": 14,
   "metadata": {},
   "outputs": [],
   "source": [
    "import bisect"
   ]
  },
  {
   "cell_type": "code",
   "execution_count": 15,
   "metadata": {},
   "outputs": [],
   "source": [
    "dp= [s[0]]"
   ]
  },
  {
   "cell_type": "code",
   "execution_count": 16,
   "metadata": {},
   "outputs": [
    {
     "name": "stdout",
     "output_type": "stream",
     "text": [
      "[2]\n",
      "[2, 6]\n",
      "[2, 3]\n",
      "[1, 3]\n",
      "[1, 3, 5]\n"
     ]
    }
   ],
   "source": [
    "for i in range(1,n):\n",
    "    if s[i] > dp[-1]:\n",
    "        dp.append(s[i]) \n",
    "    else:\n",
    "        dp[bisect.bisect(dp,s[i])]=s[i] #lis기법을 이용하기 위한 소스코드입니다.\n",
    "    print(dp)"
   ]
  },
  {
   "cell_type": "markdown",
   "metadata": {},
   "source": [
    "dp"
   ]
  },
  {
   "cell_type": "code",
   "execution_count": 11,
   "metadata": {},
   "outputs": [
    {
     "data": {
      "text/plain": [
       "3"
      ]
     },
     "execution_count": 11,
     "metadata": {},
     "output_type": "execute_result"
    }
   ],
   "source": [
    "len(dp)"
   ]
  },
  {
   "cell_type": "markdown",
   "metadata": {},
   "source": [
    "해당 문제는 완전탐색으로 하면 시간초과가 났습니다.\n",
    "lis 즉 최장 증가 부분수열을 이용해 o(log^n)*n 복잡도가 필요하므로 이진탐색 기법을 사용하는것이 바람직합니다.\n",
    "입력 조건이 n이 6, s가 [4,2,6,3,1,5]이면, \n",
    "문제를 만족하는 부분수열은 [2,3,5]값이지만 해당 소스코드 dp의 값은 [1,3,5]입니다.\n",
    "그 이유는 뒤에 있던 1이 dp배열에 bisect함수에 적용되면 인덱스 0를 반환후 적용됩니다. \n",
    "하지만 핵심은 증가하는 부분수열을 구하는 것이므로 "
   ]
  },
  {
   "cell_type": "code",
   "execution_count": 19,
   "metadata": {},
   "outputs": [],
   "source": [
    "test = [3,5]"
   ]
  },
  {
   "cell_type": "code",
   "execution_count": 22,
   "metadata": {},
   "outputs": [
    {
     "data": {
      "text/plain": [
       "1"
      ]
     },
     "execution_count": 22,
     "metadata": {},
     "output_type": "execute_result"
    }
   ],
   "source": [
    "bisect.bisect(test,4)"
   ]
  },
  {
   "cell_type": "code",
   "execution_count": null,
   "metadata": {},
   "outputs": [],
   "source": []
  }
 ],
 "metadata": {
  "kernelspec": {
   "display_name": "Python 3",
   "language": "python",
   "name": "python3"
  },
  "language_info": {
   "codemirror_mode": {
    "name": "ipython",
    "version": 3
   },
   "file_extension": ".py",
   "mimetype": "text/x-python",
   "name": "python",
   "nbconvert_exporter": "python",
   "pygments_lexer": "ipython3",
   "version": "3.7.7"
  }
 },
 "nbformat": 4,
 "nbformat_minor": 4
}
