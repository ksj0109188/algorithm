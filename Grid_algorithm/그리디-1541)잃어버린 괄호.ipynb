{
 "cells": [
  {
   "cell_type": "code",
   "execution_count": 7,
   "metadata": {},
   "outputs": [
    {
     "name": "stdout",
     "output_type": "stream",
     "text": [
      "55-55-55\n"
     ]
    }
   ],
   "source": [
    "N = input().split('-')"
   ]
  },
  {
   "cell_type": "code",
   "execution_count": 8,
   "metadata": {},
   "outputs": [
    {
     "name": "stdout",
     "output_type": "stream",
     "text": [
      "-55\n"
     ]
    }
   ],
   "source": [
    "num = []\n",
    "result = 0\n",
    "for i in N:\n",
    "    sum_value=(sum(int(i) for i in i.split('+'))) #1\n",
    "    num.append(sum_value)\n",
    "result = num[0] #2\n",
    "for i in num[1:]: #3\n",
    "    result -= i\n",
    "print(result)"
   ]
  },
  {
   "cell_type": "code",
   "execution_count": 24,
   "metadata": {
    "scrolled": true
   },
   "outputs": [],
   "source": [
    "#+기호가 있을경우 괄호를 한 후 연산 하는것이 최소 값을 구하는 퍼포먼스이다.\n",
    "#1  -기준으로 나눈 입력 데이터중 +가 있을경우 나눈후 전부 더한후 num배열에 추가, +가 없을경우에는 num배열에 추가\n",
    "#2 입력 데이터의 맨 처음 데이터는 부호가 없으므로 일단 result의 초기값으로 둔다\n",
    "#3  +연산만 있을경우 #1에서 수행하므로 num의 길이는 1이되며 for을 타지 않는다, 반대로 -만 이루어진 경우는 for문에서 모든 요소를 뺄셈한다.\n",
    "#3-1 +,-연산이 같이 존재할 경우, +연산은 #1번에서 계산되어 num배열에 추가되므로 num배열의 첫번째 요소를 제외한 나머지를 -연산 하면 된다."
   ]
  },
  {
   "cell_type": "code",
   "execution_count": 25,
   "metadata": {
    "scrolled": true
   },
   "outputs": [
    {
     "data": {
      "text/plain": [
       "[55, 55, 55]"
      ]
     },
     "execution_count": 25,
     "metadata": {},
     "output_type": "execute_result"
    }
   ],
   "source": [
    "num"
   ]
  },
  {
   "cell_type": "code",
   "execution_count": null,
   "metadata": {},
   "outputs": [],
   "source": []
  },
  {
   "cell_type": "code",
   "execution_count": null,
   "metadata": {},
   "outputs": [],
   "source": []
  },
  {
   "cell_type": "code",
   "execution_count": null,
   "metadata": {},
   "outputs": [],
   "source": []
  },
  {
   "cell_type": "code",
   "execution_count": null,
   "metadata": {},
   "outputs": [],
   "source": []
  },
  {
   "cell_type": "code",
   "execution_count": null,
   "metadata": {},
   "outputs": [],
   "source": []
  },
  {
   "cell_type": "code",
   "execution_count": null,
   "metadata": {},
   "outputs": [],
   "source": []
  },
  {
   "cell_type": "code",
   "execution_count": null,
   "metadata": {},
   "outputs": [],
   "source": []
  },
  {
   "cell_type": "code",
   "execution_count": null,
   "metadata": {},
   "outputs": [],
   "source": []
  },
  {
   "cell_type": "code",
   "execution_count": null,
   "metadata": {},
   "outputs": [],
   "source": []
  },
  {
   "cell_type": "code",
   "execution_count": null,
   "metadata": {},
   "outputs": [],
   "source": []
  }
 ],
 "metadata": {
  "kernelspec": {
   "display_name": "Python 3",
   "language": "python",
   "name": "python3"
  },
  "language_info": {
   "codemirror_mode": {
    "name": "ipython",
    "version": 3
   },
   "file_extension": ".py",
   "mimetype": "text/x-python",
   "name": "python",
   "nbconvert_exporter": "python",
   "pygments_lexer": "ipython3",
   "version": "3.7.7"
  }
 },
 "nbformat": 4,
 "nbformat_minor": 4
}
